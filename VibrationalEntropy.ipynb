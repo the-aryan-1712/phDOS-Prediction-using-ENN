{
  "nbformat": 4,
  "nbformat_minor": 0,
  "metadata": {
    "colab": {
      "provenance": [],
      "authorship_tag": "ABX9TyM9skh3FjoZxlFM6zS3WkHV",
      "include_colab_link": true
    },
    "kernelspec": {
      "name": "python3",
      "display_name": "Python 3"
    },
    "language_info": {
      "name": "python"
    }
  },
  "cells": [
    {
      "cell_type": "markdown",
      "metadata": {
        "id": "view-in-github",
        "colab_type": "text"
      },
      "source": [
        "<a href=\"https://colab.research.google.com/github/the-aryan-1712/phDOS-Prediction-using-ENN/blob/main/VibrationalEntropy.ipynb\" target=\"_parent\"><img src=\"https://colab.research.google.com/assets/colab-badge.svg\" alt=\"Open In Colab\"/></a>"
      ]
    },
    {
      "cell_type": "code",
      "source": [
        "import math\n",
        "from scipy.integrate import simpson\n",
        "import numpy as np\n",
        "import pandas as pd\n",
        "import ast"
      ],
      "metadata": {
        "id": "WHnb4gpyOf9X"
      },
      "execution_count": null,
      "outputs": []
    },
    {
      "cell_type": "code",
      "execution_count": null,
      "metadata": {
        "id": "yJ1SBrzTrYTv"
      },
      "outputs": [],
      "source": [
        "import numpy as np\n",
        "import pandas as pd\n",
        "import math\n",
        "from scipy.integrate import simpson\n",
        "\n",
        "# Constants\n",
        "h = 6.62607015e-34  # (J·s)\n",
        "k_B = 1.380649e-23  # (J/K)\n",
        "T = 300  # Kelvin\n",
        "\n",
        "\n",
        "n = h * 1e12 / (k_B * T)  # THz → Hz\n",
        "\n",
        "# entropy integrand values\n",
        "def calculate_entropy_integrand(freq_list, dos_list):\n",
        "    result = []\n",
        "    for freq, dos in zip(freq_list, dos_list):\n",
        "        if freq > 0 and dos > 0:\n",
        "            x = n * freq\n",
        "            term = (x / (np.exp(x) - 1)) - np.log(1 - np.exp(-x))\n",
        "            s = term * dos\n",
        "            result.append(s)\n",
        "        else:\n",
        "            result.append(0.0)\n",
        "    return result\n",
        "\n",
        "def integrate_entropy(freq_list, integrand):\n",
        "    return simpson(integrand, x=freq_list)\n",
        "\n",
        "\n",
        "structure_csv = pd.read_csv('/content/structure_pred.csv')\n",
        "structure_csv['normalised_phDOS_pred'] = structure_csv['normalised_phDOS_pred'].apply(ast.literal_eval)\n",
        "structure_csv['Frequency (THz)'] = structure_csv['Frequency (THz)'].apply(ast.literal_eval)\n",
        "\n",
        "# Vibrational entropy per atom (in units of k_B)\n",
        "structure_csv['entropy_integrand'] = structure_csv.apply(\n",
        "    lambda row: calculate_entropy_integrand(row['Frequency (THz)'], row['normalised_phDOS_pred']),\n",
        "    axis=1\n",
        ")\n",
        "\n",
        "structure_csv['vibrational_entropy_kB'] = structure_csv.apply(\n",
        "    lambda row: integrate_entropy(row['Frequency (THz)'], row['entropy_integrand']),\n",
        "    axis=1\n",
        ")\n",
        "del structure_csv['entropy_integrand']\n",
        "\n",
        "structure_csv.to_csv('structure_pred_entropy.csv', index=False)\n"
      ]
    },
    {
      "cell_type": "code",
      "source": [],
      "metadata": {
        "id": "vth2Q9FENxCY",
        "colab": {
          "base_uri": "https://localhost:8080/"
        },
        "outputId": "6c0c70ff-dd36-4df1-c979-6df3afd999d8"
      },
      "execution_count": null,
      "outputs": [
        {
          "output_type": "execute_result",
          "data": {
            "text/plain": [
              "np.float64(3.0)"
            ]
          },
          "metadata": {},
          "execution_count": 13
        }
      ]
    },
    {
      "cell_type": "code",
      "source": [],
      "metadata": {
        "id": "JkIhMjp2NruE"
      },
      "execution_count": null,
      "outputs": []
    }
  ]
}